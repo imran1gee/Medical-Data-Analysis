{
 "cells": [
  {
   "cell_type": "code",
   "execution_count": 1,
   "id": "93fd95ff-6638-4674-8090-6fe58bc0795b",
   "metadata": {},
   "outputs": [
    {
     "data": {
      "text/html": [
       "<div>\n",
       "<style scoped>\n",
       "    .dataframe tbody tr th:only-of-type {\n",
       "        vertical-align: middle;\n",
       "    }\n",
       "\n",
       "    .dataframe tbody tr th {\n",
       "        vertical-align: top;\n",
       "    }\n",
       "\n",
       "    .dataframe thead th {\n",
       "        text-align: right;\n",
       "    }\n",
       "</style>\n",
       "<table border=\"1\" class=\"dataframe\">\n",
       "  <thead>\n",
       "    <tr style=\"text-align: right;\">\n",
       "      <th></th>\n",
       "      <th>age</th>\n",
       "      <th>time_in_hospital</th>\n",
       "      <th>n_lab_procedures</th>\n",
       "      <th>n_procedures</th>\n",
       "      <th>n_medications</th>\n",
       "      <th>n_outpatient</th>\n",
       "      <th>n_inpatient</th>\n",
       "      <th>n_emergency</th>\n",
       "      <th>medical_specialty</th>\n",
       "      <th>diag_1</th>\n",
       "      <th>diag_2</th>\n",
       "      <th>diag_3</th>\n",
       "      <th>glucose_test</th>\n",
       "      <th>A1Ctest</th>\n",
       "      <th>change</th>\n",
       "      <th>diabetes_med</th>\n",
       "      <th>readmitted</th>\n",
       "    </tr>\n",
       "  </thead>\n",
       "  <tbody>\n",
       "    <tr>\n",
       "      <th>0</th>\n",
       "      <td>[70-80)</td>\n",
       "      <td>8</td>\n",
       "      <td>72</td>\n",
       "      <td>1</td>\n",
       "      <td>18</td>\n",
       "      <td>2</td>\n",
       "      <td>0</td>\n",
       "      <td>0</td>\n",
       "      <td>Missing</td>\n",
       "      <td>Circulatory</td>\n",
       "      <td>Respiratory</td>\n",
       "      <td>Other</td>\n",
       "      <td>no</td>\n",
       "      <td>no</td>\n",
       "      <td>no</td>\n",
       "      <td>yes</td>\n",
       "      <td>no</td>\n",
       "    </tr>\n",
       "    <tr>\n",
       "      <th>1</th>\n",
       "      <td>[70-80)</td>\n",
       "      <td>3</td>\n",
       "      <td>34</td>\n",
       "      <td>2</td>\n",
       "      <td>13</td>\n",
       "      <td>0</td>\n",
       "      <td>0</td>\n",
       "      <td>0</td>\n",
       "      <td>Other</td>\n",
       "      <td>Other</td>\n",
       "      <td>Other</td>\n",
       "      <td>Other</td>\n",
       "      <td>no</td>\n",
       "      <td>no</td>\n",
       "      <td>no</td>\n",
       "      <td>yes</td>\n",
       "      <td>no</td>\n",
       "    </tr>\n",
       "    <tr>\n",
       "      <th>2</th>\n",
       "      <td>[50-60)</td>\n",
       "      <td>5</td>\n",
       "      <td>45</td>\n",
       "      <td>0</td>\n",
       "      <td>18</td>\n",
       "      <td>0</td>\n",
       "      <td>0</td>\n",
       "      <td>0</td>\n",
       "      <td>Missing</td>\n",
       "      <td>Circulatory</td>\n",
       "      <td>Circulatory</td>\n",
       "      <td>Circulatory</td>\n",
       "      <td>no</td>\n",
       "      <td>no</td>\n",
       "      <td>yes</td>\n",
       "      <td>yes</td>\n",
       "      <td>yes</td>\n",
       "    </tr>\n",
       "    <tr>\n",
       "      <th>3</th>\n",
       "      <td>[70-80)</td>\n",
       "      <td>2</td>\n",
       "      <td>36</td>\n",
       "      <td>0</td>\n",
       "      <td>12</td>\n",
       "      <td>1</td>\n",
       "      <td>0</td>\n",
       "      <td>0</td>\n",
       "      <td>Missing</td>\n",
       "      <td>Circulatory</td>\n",
       "      <td>Other</td>\n",
       "      <td>Diabetes</td>\n",
       "      <td>no</td>\n",
       "      <td>no</td>\n",
       "      <td>yes</td>\n",
       "      <td>yes</td>\n",
       "      <td>yes</td>\n",
       "    </tr>\n",
       "    <tr>\n",
       "      <th>4</th>\n",
       "      <td>[60-70)</td>\n",
       "      <td>1</td>\n",
       "      <td>42</td>\n",
       "      <td>0</td>\n",
       "      <td>7</td>\n",
       "      <td>0</td>\n",
       "      <td>0</td>\n",
       "      <td>0</td>\n",
       "      <td>InternalMedicine</td>\n",
       "      <td>Other</td>\n",
       "      <td>Circulatory</td>\n",
       "      <td>Respiratory</td>\n",
       "      <td>no</td>\n",
       "      <td>no</td>\n",
       "      <td>no</td>\n",
       "      <td>yes</td>\n",
       "      <td>no</td>\n",
       "    </tr>\n",
       "  </tbody>\n",
       "</table>\n",
       "</div>"
      ],
      "text/plain": [
       "       age  time_in_hospital  n_lab_procedures  n_procedures  n_medications  \\\n",
       "0  [70-80)                 8                72             1             18   \n",
       "1  [70-80)                 3                34             2             13   \n",
       "2  [50-60)                 5                45             0             18   \n",
       "3  [70-80)                 2                36             0             12   \n",
       "4  [60-70)                 1                42             0              7   \n",
       "\n",
       "   n_outpatient  n_inpatient  n_emergency medical_specialty       diag_1  \\\n",
       "0             2            0            0           Missing  Circulatory   \n",
       "1             0            0            0             Other        Other   \n",
       "2             0            0            0           Missing  Circulatory   \n",
       "3             1            0            0           Missing  Circulatory   \n",
       "4             0            0            0  InternalMedicine        Other   \n",
       "\n",
       "        diag_2       diag_3 glucose_test A1Ctest change diabetes_med  \\\n",
       "0  Respiratory        Other           no      no     no          yes   \n",
       "1        Other        Other           no      no     no          yes   \n",
       "2  Circulatory  Circulatory           no      no    yes          yes   \n",
       "3        Other     Diabetes           no      no    yes          yes   \n",
       "4  Circulatory  Respiratory           no      no     no          yes   \n",
       "\n",
       "  readmitted  \n",
       "0         no  \n",
       "1         no  \n",
       "2        yes  \n",
       "3        yes  \n",
       "4         no  "
      ]
     },
     "execution_count": 1,
     "metadata": {},
     "output_type": "execute_result"
    }
   ],
   "source": [
    "import pandas as pd\n",
    "\n",
    "# Load the dataset (replace with your file path)\n",
    "file_path = 'hospital_readmissions.csv'\n",
    "data = pd.read_csv(file_path)\n",
    "\n",
    "# Display the first few rows to understand the data\n",
    "data.head()\n"
   ]
  },
  {
   "cell_type": "code",
   "execution_count": 2,
   "id": "528b1d99-1f71-4f9e-97da-eb1a20aa8030",
   "metadata": {},
   "outputs": [
    {
     "data": {
      "text/plain": [
       "age                  0\n",
       "time_in_hospital     0\n",
       "n_lab_procedures     0\n",
       "n_procedures         0\n",
       "n_medications        0\n",
       "n_outpatient         0\n",
       "n_inpatient          0\n",
       "n_emergency          0\n",
       "medical_specialty    0\n",
       "diag_1               0\n",
       "diag_2               0\n",
       "diag_3               0\n",
       "glucose_test         0\n",
       "A1Ctest              0\n",
       "change               0\n",
       "diabetes_med         0\n",
       "readmitted           0\n",
       "dtype: int64"
      ]
     },
     "execution_count": 2,
     "metadata": {},
     "output_type": "execute_result"
    }
   ],
   "source": [
    "# Check for missing values\n",
    "data.isnull().sum()"
   ]
  },
  {
   "cell_type": "code",
   "execution_count": 3,
   "id": "f903fc8b-0721-46f1-9028-17a53d11a49b",
   "metadata": {},
   "outputs": [
    {
     "data": {
      "image/png": "[encoded data removed]",
      "text/plain": [
       "<Figure size 640x480 with 1 Axes>"
      ]
     },
     "metadata": {},
     "output_type": "display_data"
    }
   ],
   "source": [
    "import matplotlib.pyplot as plt\n",
    "import seaborn as sns\n",
    "\n",
    "# Plot the distribution of the target variable 'readmitted'\n",
    "sns.countplot(x='readmitted', data=data)\n",
    "plt.title('Distribution of Readmission Status')\n",
    "plt.xlabel('Readmitted')\n",
    "plt.ylabel('Count')\n",
    "plt.show()"
   ]
  },
  {
   "cell_type": "code",
   "execution_count": 4,
   "id": "9bfd4267-f9c5-448d-a57f-76f7fcfac63b",
   "metadata": {},
   "outputs": [
    {
     "name": "stdout",
     "output_type": "stream",
     "text": [
      "readmitted\n",
      "no     13246\n",
      "yes    11754\n",
      "Name: count, dtype: int64\n"
     ]
    }
   ],
   "source": [
    "# Count the number of instances for each category in the 'readmitted' column\n",
    "readmitted_counts = data['readmitted'].value_counts()\n",
    "\n",
    "# Display the counts\n",
    "print(readmitted_counts)"
   ]
  },
  {
   "cell_type": "code",
   "execution_count": 5,
   "id": "1482805b-c0a9-4553-acf6-5633a82db26c",
   "metadata": {},
   "outputs": [
    {
     "name": "stdout",
     "output_type": "stream",
     "text": [
      "readmitted    no   yes\n",
      "age                   \n",
      "[40-50)     1405  1127\n",
      "[50-60)     2486  1966\n",
      "[60-70)     3143  2770\n",
      "[70-80)     3501  3336\n",
      "[80-90)     2277  2239\n",
      "[90-100)     434   316\n"
     ]
    }
   ],
   "source": [
    "# Count readmissions by age group\n",
    "age_readmitted_counts = data.groupby('age')['readmitted'].value_counts().unstack()\n",
    "\n",
    "# Display the results\n",
    "print(age_readmitted_counts)"
   ]
  },
  {
   "cell_type": "code",
   "execution_count": 6,
   "id": "8ed8535a-598d-448c-9d61-3d6dc2e20373",
   "metadata": {},
   "outputs": [
    {
     "name": "stdout",
     "output_type": "stream",
     "text": [
      "Chi-square Statistic: 48.787297263120706\n",
      "Degrees of Freedom: 5\n",
      "P-value: 2.4528660957495614e-09\n",
      "There is a significant association between age and readmission status (reject null hypothesis).\n"
     ]
    }
   ],
   "source": [
    "from scipy.stats import chi2_contingency\n",
    "\n",
    "# Create a contingency table\n",
    "contingency_table = data.groupby('age')['readmitted'].value_counts().unstack()\n",
    "\n",
    "# Perform the chi-square test\n",
    "chi2, p, dof, expected = chi2_contingency(contingency_table)\n",
    "\n",
    "# Display the results\n",
    "print(\"Chi-square Statistic:\", chi2)\n",
    "print(\"Degrees of Freedom:\", dof)\n",
    "print(\"P-value:\", p)\n",
    "\n",
    "# Interpretation\n",
    "if p < 0.05:\n",
    "    print(\"There is a significant association between age and readmission status (reject null hypothesis).\")\n",
    "else:\n",
    "    print(\"There is no significant association between age and readmission status (fail to reject null hypothesis).\")\n"
   ]
  },
  {
   "cell_type": "code",
   "execution_count": 7,
   "id": "fee3670c-0f55-4640-bfb7-fbc91b7eff2d",
   "metadata": {},
   "outputs": [
    {
     "data": {
      "image/png": "[encoded data removed]",
      "text/plain": [
       "<Figure size 800x600 with 1 Axes>"
      ]
     },
     "metadata": {},
     "output_type": "display_data"
    }
   ],
   "source": [
    "import matplotlib.pyplot as plt\n",
    "\n",
    "# Create a stacked bar chart\n",
    "contingency_table = data.groupby('age')['readmitted'].value_counts().unstack()\n",
    "contingency_table.plot(kind='bar', stacked=True, figsize=(8, 6), color=['skyblue', 'orange'])\n",
    "\n",
    "# Add titles and labels\n",
    "plt.title('Readmissions by Age Group', fontsize=14)\n",
    "plt.xlabel('Age Group', fontsize=12)\n",
    "plt.ylabel('Count', fontsize=12)\n",
    "plt.legend(title='Readmitted', loc='upper right')\n",
    "plt.xticks(rotation=45)\n",
    "plt.show()"
   ]
  },
  {
   "cell_type": "code",
   "execution_count": 8,
   "id": "67058f56-cb5d-406a-b354-4a86aafa1972",
   "metadata": {},
   "outputs": [
    {
     "data": {
      "image/png": "[encoded data removed]",
      "text/plain": [
       "<Figure size 800x600 with 2 Axes>"
      ]
     },
     "metadata": {},
     "output_type": "display_data"
    }
   ],
   "source": [
    "import seaborn as sns\n",
    "\n",
    "# Plot the heatmap\n",
    "plt.figure(figsize=(8, 6))\n",
    "sns.heatmap(contingency_table, annot=True, fmt='d', cmap='coolwarm', cbar=True)\n",
    "\n",
    "# Add titles and labels\n",
    "plt.title('Heatmap of Readmissions by Age Group', fontsize=14)\n",
    "plt.xlabel('Readmitted', fontsize=12)\n",
    "plt.ylabel('Age Group', fontsize=12)\n",
    "plt.show()\n"
   ]
  },
  {
   "cell_type": "code",
   "execution_count": 9,
   "id": "5f0ec652-f004-43af-b019-1cfddfa6075a",
   "metadata": {},
   "outputs": [
    {
     "name": "stdout",
     "output_type": "stream",
     "text": [
      "readmitted         no        yes\n",
      "age                             \n",
      "[40-50)     55.489731  44.510269\n",
      "[50-60)     55.840072  44.159928\n",
      "[60-70)     53.154067  46.845933\n",
      "[70-80)     51.206670  48.793330\n",
      "[80-90)     50.420726  49.579274\n",
      "[90-100)    57.866667  42.133333\n"
     ]
    }
   ],
   "source": [
    "# Calculate percentage distribution\n",
    "percentage_table = contingency_table.div(contingency_table.sum(axis=1), axis=0) * 100\n",
    "\n",
    "# Display the percentage table\n",
    "print(percentage_table)"
   ]
  },
  {
   "cell_type": "code",
   "execution_count": 11,
   "id": "cefe1e17-6e5e-4c0b-b276-ba06547ffa06",
   "metadata": {},
   "outputs": [
    {
     "name": "stdout",
     "output_type": "stream",
     "text": [
      "Contingency Table:\n",
      "readmitted                no   yes\n",
      "medical_specialty                 \n",
      "Cardiology               775   634\n",
      "Emergency/Trauma         954   931\n",
      "Family/GeneralPractice   950   932\n",
      "InternalMedicine        1969  1596\n",
      "Missing                 6326  6056\n",
      "Other                   1559  1105\n",
      "Surgery                  713   500\n",
      "\n",
      "Chi-square Statistic: 85.51193444574233\n",
      "Degrees of Freedom: 6\n",
      "P-value: 2.5857749465869964e-16\n",
      "There is a significant association between medical specialty and readmission status (reject null hypothesis).\n"
     ]
    }
   ],
   "source": [
    "# Contingency table for medical_specialty and readmitted\n",
    "specialty_table = data.groupby('medical_specialty')['readmitted'].value_counts().unstack()\n",
    "\n",
    "# Display the table\n",
    "print(\"Contingency Table:\")\n",
    "print(specialty_table)\n",
    "\n",
    "# Perform the chi-square test\n",
    "from scipy.stats import chi2_contingency\n",
    "chi2, p, dof, expected = chi2_contingency(specialty_table.fillna(0))  # Fill NaNs with 0 for the test\n",
    "\n",
    "# Display chi-square test results\n",
    "print(\"\\nChi-square Statistic:\", chi2)\n",
    "print(\"Degrees of Freedom:\", dof)\n",
    "print(\"P-value:\", p)\n",
    "\n",
    "# Interpretation\n",
    "if p < 0.05:\n",
    "    print(\"There is a significant association between medical specialty and readmission status (reject null hypothesis).\")\n",
    "else:\n",
    "    print(\"There is no significant association between medical specialty and readmission status (fail to reject null hypothesis).\")"
   ]
  },
  {
   "cell_type": "code",
   "execution_count": 12,
   "id": "8b4e6206-9cc8-417f-99d8-ce7018a88d5e",
   "metadata": {},
   "outputs": [
    {
     "name": "stdout",
     "output_type": "stream",
     "text": [
      "Percentage Table:\n",
      "readmitted                     no        yes\n",
      "medical_specialty                           \n",
      "Cardiology              55.003549  44.996451\n",
      "Emergency/Trauma        50.610080  49.389920\n",
      "Family/GeneralPractice  50.478215  49.521785\n",
      "InternalMedicine        55.231417  44.768583\n",
      "Missing                 51.090292  48.909708\n",
      "Other                   58.521021  41.478979\n",
      "Surgery                 58.779885  41.220115\n"
     ]
    }
   ],
   "source": [
    "# Calculate the percentage distribution\n",
    "specialty_percentage_table = specialty_table.div(specialty_table.sum(axis=1), axis=0) * 100\n",
    "\n",
    "# Display the percentage table\n",
    "print(\"Percentage Table:\")\n",
    "print(specialty_percentage_table)\n"
   ]
  },
  {
   "cell_type": "code",
   "execution_count": 14,
   "id": "0528857c-0eb0-4428-acd7-0130522eb2e4",
   "metadata": {},
   "outputs": [
    {
     "name": "stdout",
     "output_type": "stream",
     "text": [
      "Index(['time_in_hospital', 'n_lab_procedures', 'n_procedures', 'n_medications',\n",
      "       'n_outpatient', 'n_inpatient', 'n_emergency', 'age_[50-60)',\n",
      "       'age_[60-70)', 'age_[70-80)', 'age_[80-90)', 'age_[90-100)',\n",
      "       'medical_specialty_Emergency/Trauma',\n",
      "       'medical_specialty_Family/GeneralPractice',\n",
      "       'medical_specialty_InternalMedicine', 'medical_specialty_Missing',\n",
      "       'medical_specialty_Other', 'medical_specialty_Surgery',\n",
      "       'diag_1_Diabetes', 'diag_1_Digestive', 'diag_1_Injury',\n",
      "       'diag_1_Missing', 'diag_1_Musculoskeletal', 'diag_1_Other',\n",
      "       'diag_1_Respiratory', 'diag_2_Diabetes', 'diag_2_Digestive',\n",
      "       'diag_2_Injury', 'diag_2_Missing', 'diag_2_Musculoskeletal',\n",
      "       'diag_2_Other', 'diag_2_Respiratory', 'diag_3_Diabetes',\n",
      "       'diag_3_Digestive', 'diag_3_Injury', 'diag_3_Missing',\n",
      "       'diag_3_Musculoskeletal', 'diag_3_Other', 'diag_3_Respiratory',\n",
      "       'glucose_test_no', 'glucose_test_normal', 'A1Ctest_no',\n",
      "       'A1Ctest_normal', 'change_yes', 'diabetes_med_yes', 'readmitted_yes'],\n",
      "      dtype='object')\n"
     ]
    }
   ],
   "source": [
    "# Check column names after preprocessing\n",
    "print(data_encoded.columns)\n"
   ]
  },
  {
   "cell_type": "code",
   "execution_count": 15,
   "id": "07a75fc1-593d-4c14-a758-704226a7f149",
   "metadata": {},
   "outputs": [],
   "source": [
    "# Step 3: Encode the target variable ('readmitted_yes')\n",
    "data_encoded['readmitted_yes'] = data_encoded['readmitted_yes'].map({1: 1, 0: 0})\n",
    "\n",
    "# Step 4: Split data into features (X) and target (y)\n",
    "X = data_encoded.drop('readmitted_yes', axis=1)\n",
    "y = data_encoded['readmitted_yes']"
   ]
  },
  {
   "cell_type": "code",
   "execution_count": 19,
   "id": "e7f30d20-a3bb-4d56-9eaa-43f54e6681a2",
   "metadata": {},
   "outputs": [
    {
     "name": "stdout",
     "output_type": "stream",
     "text": [
      "Empty DataFrame\n",
      "Columns: [time_in_hospital, n_lab_procedures, n_procedures, n_medications, n_outpatient, n_inpatient, n_emergency, age_[50-60), age_[60-70), age_[70-80), age_[80-90), age_[90-100), medical_specialty_Emergency/Trauma, medical_specialty_Family/GeneralPractice, medical_specialty_InternalMedicine, medical_specialty_Missing, medical_specialty_Other, medical_specialty_Surgery, diag_1_Diabetes, diag_1_Digestive, diag_1_Injury, diag_1_Missing, diag_1_Musculoskeletal, diag_1_Other, diag_1_Respiratory, diag_2_Diabetes, diag_2_Digestive, diag_2_Injury, diag_2_Missing, diag_2_Musculoskeletal, diag_2_Other, diag_2_Respiratory, diag_3_Diabetes, diag_3_Digestive, diag_3_Injury, diag_3_Missing, diag_3_Musculoskeletal, diag_3_Other, diag_3_Respiratory, glucose_test_no, glucose_test_normal, A1Ctest_no, A1Ctest_normal, change_yes, diabetes_med_yes, readmitted_yes]\n",
      "Index: []\n",
      "\n",
      "[0 rows x 46 columns]\n"
     ]
    }
   ],
   "source": [
    "print(data_encoded.head())"
   ]
  },
  {
   "cell_type": "code",
   "execution_count": 20,
   "id": "8ff97812-343d-4aa4-9ede-54a355062e77",
   "metadata": {},
   "outputs": [
    {
     "name": "stdout",
     "output_type": "stream",
     "text": [
      "       age  time_in_hospital  n_lab_procedures  n_procedures  n_medications  \\\n",
      "0  [70-80)                 8                72             1             18   \n",
      "1  [70-80)                 3                34             2             13   \n",
      "2  [50-60)                 5                45             0             18   \n",
      "3  [70-80)                 2                36             0             12   \n",
      "4  [60-70)                 1                42             0              7   \n",
      "\n",
      "   n_outpatient  n_inpatient  n_emergency medical_specialty       diag_1  \\\n",
      "0             2            0            0           Missing  Circulatory   \n",
      "1             0            0            0             Other        Other   \n",
      "2             0            0            0           Missing  Circulatory   \n",
      "3             1            0            0           Missing  Circulatory   \n",
      "4             0            0            0  InternalMedicine        Other   \n",
      "\n",
      "        diag_2       diag_3 glucose_test A1Ctest change diabetes_med  \\\n",
      "0  Respiratory        Other           no      no     no          yes   \n",
      "1        Other        Other           no      no     no          yes   \n",
      "2  Circulatory  Circulatory           no      no    yes          yes   \n",
      "3        Other     Diabetes           no      no    yes          yes   \n",
      "4  Circulatory  Respiratory           no      no     no          yes   \n",
      "\n",
      "  readmitted  \n",
      "0         no  \n",
      "1         no  \n",
      "2        yes  \n",
      "3        yes  \n",
      "4         no  \n"
     ]
    }
   ],
   "source": [
    "print(data.head())  # Check the first few rows of the original data\n"
   ]
  },
  {
   "cell_type": "code",
   "execution_count": 21,
   "id": "9450a46c-fdc1-4c69-8ff6-b9c1068c9966",
   "metadata": {},
   "outputs": [
    {
     "name": "stdout",
     "output_type": "stream",
     "text": [
      "age                  0\n",
      "time_in_hospital     0\n",
      "n_lab_procedures     0\n",
      "n_procedures         0\n",
      "n_medications        0\n",
      "n_outpatient         0\n",
      "n_inpatient          0\n",
      "n_emergency          0\n",
      "medical_specialty    0\n",
      "diag_1               0\n",
      "diag_2               0\n",
      "diag_3               0\n",
      "glucose_test         0\n",
      "A1Ctest              0\n",
      "change               0\n",
      "diabetes_med         0\n",
      "readmitted           0\n",
      "dtype: int64\n"
     ]
    }
   ],
   "source": [
    "print(data.isna().sum())  # Check for missing values in the original dataset\n"
   ]
  },
  {
   "cell_type": "code",
   "execution_count": 22,
   "id": "76938786-85a1-4f1a-8d4d-1ebaff6fcddd",
   "metadata": {},
   "outputs": [
    {
     "name": "stdout",
     "output_type": "stream",
     "text": [
      "   time_in_hospital  n_lab_procedures  n_procedures  n_medications  \\\n",
      "0                 8                72             1             18   \n",
      "1                 3                34             2             13   \n",
      "2                 5                45             0             18   \n",
      "3                 2                36             0             12   \n",
      "4                 1                42             0              7   \n",
      "\n",
      "   n_outpatient  n_inpatient  n_emergency glucose_test A1Ctest change  ...  \\\n",
      "0             2            0            0           no      no     no  ...   \n",
      "1             0            0            0           no      no     no  ...   \n",
      "2             0            0            0           no      no    yes  ...   \n",
      "3             1            0            0           no      no    yes  ...   \n",
      "4             0            0            0           no      no     no  ...   \n",
      "\n",
      "  diag_2_Musculoskeletal diag_2_Other  diag_2_Respiratory  diag_3_Diabetes  \\\n",
      "0                  False        False                True            False   \n",
      "1                  False         True               False            False   \n",
      "2                  False        False               False            False   \n",
      "3                  False         True               False             True   \n",
      "4                  False        False               False            False   \n",
      "\n",
      "   diag_3_Digestive  diag_3_Injury  diag_3_Missing  diag_3_Musculoskeletal  \\\n",
      "0             False          False           False                   False   \n",
      "1             False          False           False                   False   \n",
      "2             False          False           False                   False   \n",
      "3             False          False           False                   False   \n",
      "4             False          False           False                   False   \n",
      "\n",
      "   diag_3_Other  diag_3_Respiratory  \n",
      "0          True               False  \n",
      "1          True               False  \n",
      "2         False               False  \n",
      "3         False               False  \n",
      "4         False                True  \n",
      "\n",
      "[5 rows x 44 columns]\n",
      "(25000, 43) (25000,)\n"
     ]
    }
   ],
   "source": [
    "# Perform one-hot encoding for categorical columns\n",
    "data_encoded = pd.get_dummies(data, columns=['age', 'medical_specialty', 'diag_1', 'diag_2', 'diag_3'], drop_first=True)\n",
    "\n",
    "# Check the encoded data\n",
    "print(data_encoded.head())\n",
    "\n",
    "# Separate features (X) and target (y)\n",
    "X = data_encoded.drop('readmitted', axis=1)\n",
    "y = data_encoded['readmitted']\n",
    "\n",
    "# Check the shapes of X and y\n",
    "print(X.shape, y.shape)\n"
   ]
  },
  {
   "cell_type": "code",
   "execution_count": 24,
   "id": "c79bb499-f082-4d0c-96aa-fbc7e20f8091",
   "metadata": {},
   "outputs": [
    {
     "name": "stdout",
     "output_type": "stream",
     "text": [
      "Accuracy: 0.6114\n",
      "Confusion Matrix:\n",
      "[[1867  791]\n",
      " [1152 1190]]\n",
      "Classification Report:\n",
      "              precision    recall  f1-score   support\n",
      "\n",
      "          no       0.62      0.70      0.66      2658\n",
      "         yes       0.60      0.51      0.55      2342\n",
      "\n",
      "    accuracy                           0.61      5000\n",
      "   macro avg       0.61      0.61      0.60      5000\n",
      "weighted avg       0.61      0.61      0.61      5000\n",
      "\n"
     ]
    }
   ],
   "source": [
    "from sklearn.preprocessing import LabelEncoder\n",
    "\n",
    "# List of columns with binary categorical values\n",
    "binary_columns = ['glucose_test', 'A1Ctest', 'change', 'diabetes_med']\n",
    "\n",
    "# Initialize the LabelEncoder\n",
    "label_encoder = LabelEncoder()\n",
    "\n",
    "# Apply label encoding to each binary categorical column\n",
    "for col in binary_columns:\n",
    "    X[col] = label_encoder.fit_transform(X[col])\n",
    "\n",
    "# Now you can split and train the model again\n",
    "X_train, X_test, y_train, y_test = train_test_split(X, y, test_size=0.2, random_state=42)\n",
    "\n",
    "# Train and evaluate the model as before\n",
    "model = RandomForestClassifier(n_estimators=100, random_state=42)\n",
    "model.fit(X_train, y_train)\n",
    "\n",
    "# Make predictions\n",
    "y_pred = model.predict(X_test)\n",
    "\n",
    "# Evaluate the model\n",
    "accuracy = accuracy_score(y_test, y_pred)\n",
    "conf_matrix = confusion_matrix(y_test, y_pred)\n",
    "class_report = classification_report(y_test, y_pred)\n",
    "\n",
    "print(\"Accuracy:\", accuracy)\n",
    "print(\"Confusion Matrix:\")\n",
    "print(conf_matrix)\n",
    "print(\"Classification Report:\")\n",
    "print(class_report)\n",
    "\n"
   ]
  },
  {
   "cell_type": "code",
   "execution_count": null,
   "id": "22810c6d-8760-4471-90a5-2a8ec8970580",
   "metadata": {},
   "outputs": [],
   "source": []
  }
 ],
 "metadata": {
  "kernelspec": {
   "display_name": "Python (base)",
   "language": "python",
   "name": "base"
  },
  "language_info": {
   "codemirror_mode": {
    "name": "ipython",
    "version": 3
   },
   "file_extension": ".py",
   "mimetype": "text/x-python",
   "name": "python",
   "nbconvert_exporter": "python",
   "pygments_lexer": "ipython3",
   "version": "3.12.8"
  }
 },
 "nbformat": 4,
 "nbformat_minor": 5
}
